{
 "cells": [
  {
   "cell_type": "code",
   "execution_count": 1,
   "id": "4832b445",
   "metadata": {},
   "outputs": [],
   "source": [
    "import numpy as np"
   ]
  },
  {
   "cell_type": "code",
   "execution_count": 2,
   "id": "50e04828",
   "metadata": {},
   "outputs": [
    {
     "name": "stdout",
     "output_type": "stream",
     "text": [
      "[0. 0. 0. 0. 0. 0. 0. 0. 0. 0.]\n"
     ]
    }
   ],
   "source": [
    "zeros=np.zeros((10,))\n",
    "print(zeros)"
   ]
  },
  {
   "cell_type": "code",
   "execution_count": 3,
   "id": "3ff1349b",
   "metadata": {},
   "outputs": [
    {
     "name": "stdout",
     "output_type": "stream",
     "text": [
      "['a' 'e' 'i' 'o' 'u']\n"
     ]
    }
   ],
   "source": [
    "vowels = np.array(list('aeiou'))\n",
    "print (vowels)"
   ]
  },
  {
   "cell_type": "code",
   "execution_count": 4,
   "id": "42a7c064",
   "metadata": {},
   "outputs": [
    {
     "name": "stdout",
     "output_type": "stream",
     "text": [
      "[[1 1 1 1 1]\n",
      " [1 1 1 1 1]]\n"
     ]
    }
   ],
   "source": [
    "ones =np.ones ((2,5),dtype=int)\n",
    "print(ones )"
   ]
  },
  {
   "cell_type": "code",
   "execution_count": 5,
   "id": "901c856b",
   "metadata": {},
   "outputs": [
    {
     "name": "stdout",
     "output_type": "stream",
     "text": [
      "[[  2.7  -2.  -19. ]\n",
      " [  0.    3.4  99.9]\n",
      " [ 10.6   0.   13. ]]\n"
     ]
    }
   ],
   "source": [
    "myarray1  =np.array([[2.7,  -2,  -19],[0,  3.4,  99.9],[10.6,  0,  13]])\n",
    "print (myarray1)"
   ]
  },
  {
   "cell_type": "code",
   "execution_count": 6,
   "id": "d5fe1949",
   "metadata": {},
   "outputs": [
    {
     "name": "stdout",
     "output_type": "stream",
     "text": [
      "[[ 4.  8. 12. 16. 20.]\n",
      " [24. 28. 32. 36. 40.]\n",
      " [44. 48. 52. 56. 60.]]\n"
     ]
    }
   ],
   "source": [
    "myarray2 = np.arange(4,61,4,float).reshape(3,5)\n",
    "print(myarray2)"
   ]
  },
  {
   "cell_type": "code",
   "execution_count": 7,
   "id": "65f55edb",
   "metadata": {},
   "outputs": [
    {
     "data": {
      "text/plain": [
       "(2, 5)"
      ]
     },
     "execution_count": 7,
     "metadata": {},
     "output_type": "execute_result"
    }
   ],
   "source": [
    "np.shape(ones) "
   ]
  },
  {
   "cell_type": "code",
   "execution_count": 8,
   "id": "8585ca76",
   "metadata": {},
   "outputs": [
    {
     "name": "stdout",
     "output_type": "stream",
     "text": [
      "float64\n"
     ]
    }
   ],
   "source": [
    "print(myarray2.dtype)"
   ]
  },
  {
   "cell_type": "code",
   "execution_count": 9,
   "id": "503b8385",
   "metadata": {},
   "outputs": [
    {
     "data": {
      "text/plain": [
       "9"
      ]
     },
     "execution_count": 9,
     "metadata": {},
     "output_type": "execute_result"
    }
   ],
   "source": [
    "np.size(myarray1)"
   ]
  },
  {
   "cell_type": "code",
   "execution_count": 10,
   "id": "cba4c989",
   "metadata": {},
   "outputs": [
    {
     "name": "stdout",
     "output_type": "stream",
     "text": [
      "2\n"
     ]
    }
   ],
   "source": [
    "print(ones.ndim)"
   ]
  },
  {
   "cell_type": "code",
   "execution_count": 11,
   "id": "5d201f46",
   "metadata": {},
   "outputs": [
    {
     "data": {
      "text/plain": [
       "array(['e', 'i'], dtype='<U1')"
      ]
     },
     "execution_count": 11,
     "metadata": {},
     "output_type": "execute_result"
    }
   ],
   "source": [
    "vowels[[1,2]]"
   ]
  },
  {
   "cell_type": "code",
   "execution_count": 12,
   "id": "cb3212fc",
   "metadata": {},
   "outputs": [
    {
     "data": {
      "text/plain": [
       "array([[ 0. ,  3.4, 99.9],\n",
       "       [10.6,  0. , 13. ]])"
      ]
     },
     "execution_count": 12,
     "metadata": {},
     "output_type": "execute_result"
    }
   ],
   "source": [
    "myarray1[[1,2]]"
   ]
  },
  {
   "cell_type": "code",
   "execution_count": 13,
   "id": "a0f9e412",
   "metadata": {},
   "outputs": [
    {
     "data": {
      "text/plain": [
       "array([], shape=(0, 3), dtype=float64)"
      ]
     },
     "execution_count": 13,
     "metadata": {},
     "output_type": "execute_result"
    }
   ],
   "source": [
    "myarray1[ :0]"
   ]
  },
  {
   "cell_type": "code",
   "execution_count": 14,
   "id": "57a44472",
   "metadata": {},
   "outputs": [
    {
     "data": {
      "text/plain": [
       "array([[  2.7,  -2. , -19. ]])"
      ]
     },
     "execution_count": 14,
     "metadata": {},
     "output_type": "execute_result"
    }
   ],
   "source": [
    "myarray1[[0]]"
   ]
  },
  {
   "cell_type": "code",
   "execution_count": 15,
   "id": "240cee01",
   "metadata": {},
   "outputs": [
    {
     "data": {
      "text/plain": [
       "array([[ 10.6,   0. ,  13. ],\n",
       "       [  0. ,   3.4,  99.9],\n",
       "       [  2.7,  -2. , -19. ]])"
      ]
     },
     "execution_count": 15,
     "metadata": {},
     "output_type": "execute_result"
    }
   ],
   "source": [
    "myarray1 [: : -1]"
   ]
  },
  {
   "cell_type": "code",
   "execution_count": 16,
   "id": "a54617e3",
   "metadata": {},
   "outputs": [
    {
     "name": "stdout",
     "output_type": "stream",
     "text": [
      "[[0.33333333 0.33333333 0.33333333 0.33333333 0.33333333]\n",
      " [0.33333333 0.33333333 0.33333333 0.33333333 0.33333333]]\n"
     ]
    }
   ],
   "source": [
    "divisor=3\n",
    "out=np.divide(ones,divisor)\n",
    "print(out)"
   ]
  },
  {
   "cell_type": "code",
   "execution_count": 17,
   "id": "8501c8a6",
   "metadata": {},
   "outputs": [
    {
     "name": "stdout",
     "output_type": "stream",
     "text": [
      "[[1 2 3]\n",
      " [4 5 6]\n",
      " [7 8 9]]\n"
     ]
    }
   ],
   "source": [
    "myarray2 = np.array([1, 2, 3, 4, 5, 6, 7, 8, 9]).reshape(3, 3)\n",
    "\n",
    "print(myarray2)"
   ]
  },
  {
   "cell_type": "code",
   "execution_count": 18,
   "id": "481f1970",
   "metadata": {},
   "outputs": [
    {
     "data": {
      "text/plain": [
       "array([[  3.7,   0. , -16. ],\n",
       "       [  4. ,   8.4, 105.9],\n",
       "       [ 17.6,   8. ,  22. ]])"
      ]
     },
     "execution_count": 18,
     "metadata": {},
     "output_type": "execute_result"
    }
   ],
   "source": [
    "myarray1+myarray2"
   ]
  },
  {
   "cell_type": "code",
   "execution_count": 19,
   "id": "9b3baaa0",
   "metadata": {},
   "outputs": [
    {
     "name": "stdout",
     "output_type": "stream",
     "text": [
      "[[  1.7  -4.  -22. ]\n",
      " [ -4.   -1.6  93.9]\n",
      " [  3.6  -8.    4. ]]\n"
     ]
    }
   ],
   "source": [
    "newarray=myarray1-myarray2\n",
    "print(newarray)"
   ]
  },
  {
   "cell_type": "code",
   "execution_count": 20,
   "id": "c66231b5",
   "metadata": {},
   "outputs": [
    {
     "data": {
      "text/plain": [
       "array([[  2.7,  -4. , -57. ],\n",
       "       [  0. ,  17. , 599.4],\n",
       "       [ 74.2,   0. , 117. ]])"
      ]
     },
     "execution_count": 20,
     "metadata": {},
     "output_type": "execute_result"
    }
   ],
   "source": [
    "myarray1*myarray2"
   ]
  },
  {
   "cell_type": "code",
   "execution_count": 21,
   "id": "f540481f",
   "metadata": {},
   "outputs": [
    {
     "name": "stdout",
     "output_type": "stream",
     "text": [
      "[[-138.3 -156.6 -174.9]\n",
      " [ 712.9  816.2  919.5]\n",
      " [ 101.6  125.2  148.8]]\n"
     ]
    }
   ],
   "source": [
    "myarray3=myarray1@myarray2\n",
    "print(myarray3)"
   ]
  },
  {
   "cell_type": "code",
   "execution_count": 22,
   "id": "b99d1a3e",
   "metadata": {},
   "outputs": [
    {
     "data": {
      "text/plain": [
       "array([[ 2.7       , -1.        , -6.33333333],\n",
       "       [ 0.        ,  0.68      , 16.65      ],\n",
       "       [ 1.51428571,  0.        ,  1.44444444]])"
      ]
     },
     "execution_count": 22,
     "metadata": {},
     "output_type": "execute_result"
    }
   ],
   "source": [
    "myarray1/myarray2"
   ]
  },
  {
   "cell_type": "code",
   "execution_count": 23,
   "id": "155178df",
   "metadata": {},
   "outputs": [
    {
     "data": {
      "text/plain": [
       "array([[ 9.841500e+00, -4.000000e+00, -3.429500e+03],\n",
       "       [ 0.000000e+00,  1.965200e+01,  4.985015e+05],\n",
       "       [ 5.955080e+02,  0.000000e+00,  1.098500e+03]])"
      ]
     },
     "execution_count": 23,
     "metadata": {},
     "output_type": "execute_result"
    }
   ],
   "source": [
    "myarray1**3/2"
   ]
  },
  {
   "cell_type": "code",
   "execution_count": 24,
   "id": "12458393",
   "metadata": {},
   "outputs": [
    {
     "data": {
      "text/plain": [
       "array([[0.5 , 0.71, 0.87],\n",
       "       [1.  , 1.12, 1.22],\n",
       "       [1.32, 1.41, 1.5 ]])"
      ]
     },
     "execution_count": 24,
     "metadata": {},
     "output_type": "execute_result"
    }
   ],
   "source": [
    "np.around(myarray2**(1/2)/2,2)"
   ]
  },
  {
   "cell_type": "code",
   "execution_count": 25,
   "id": "a846bdcc",
   "metadata": {},
   "outputs": [
    {
     "data": {
      "text/plain": [
       "<function ndarray.transpose>"
      ]
     },
     "execution_count": 25,
     "metadata": {},
     "output_type": "execute_result"
    }
   ],
   "source": [
    "ones.transpose()\n",
    "myarray2.transpose"
   ]
  },
  {
   "cell_type": "code",
   "execution_count": 26,
   "id": "ef602ce0",
   "metadata": {},
   "outputs": [
    {
     "data": {
      "text/plain": [
       "array(['u', 'o', 'i', 'e', 'a'], dtype='<U1')"
      ]
     },
     "execution_count": 26,
     "metadata": {},
     "output_type": "execute_result"
    }
   ],
   "source": [
    "(np.sort(vowels))[: : -1]"
   ]
  },
  {
   "cell_type": "code",
   "execution_count": 27,
   "id": "44ce097e",
   "metadata": {},
   "outputs": [],
   "source": [
    "myarray1.sort(axis=0)"
   ]
  },
  {
   "cell_type": "code",
   "execution_count": 28,
   "id": "4fa60a93",
   "metadata": {},
   "outputs": [
    {
     "name": "stdout",
     "output_type": "stream",
     "text": [
      "[[1]\n",
      " [4]\n",
      " [7]] [[2]\n",
      " [5]\n",
      " [8]] [[3]\n",
      " [6]\n",
      " [9]] [] []\n"
     ]
    }
   ],
   "source": [
    "myarray2A,myarray2B,myarray2C,myarray2D,myarray2E=np.array_split(myarray2,5,axis=1)\n",
    "print(myarray2A,myarray2B,myarray2C,myarray2D,myarray2E)"
   ]
  },
  {
   "cell_type": "code",
   "execution_count": 29,
   "id": "dfc93b6a",
   "metadata": {},
   "outputs": [
    {
     "data": {
      "text/plain": [
       "array([[1, 4, 7],\n",
       "       [2, 5, 8],\n",
       "       [3, 6, 9]])"
      ]
     },
     "execution_count": 29,
     "metadata": {},
     "output_type": "execute_result"
    }
   ],
   "source": [
    "(np.array([myarray2A,myarray2B,myarray2C])).reshape(3,3)"
   ]
  },
  {
   "cell_type": "code",
   "execution_count": 30,
   "id": "33d571a3",
   "metadata": {},
   "outputs": [],
   "source": [
    "myarray4=np.arange(-1,9.5,0.25)\n",
    "a1,a2,a3=np.array_split(myarray4,3,axis=0)"
   ]
  },
  {
   "cell_type": "code",
   "execution_count": 31,
   "id": "a0470340",
   "metadata": {},
   "outputs": [
    {
     "data": {
      "text/plain": [
       "173.25"
      ]
     },
     "execution_count": 31,
     "metadata": {},
     "output_type": "execute_result"
    }
   ],
   "source": [
    "myarray4.sum()"
   ]
  },
  {
   "cell_type": "code",
   "execution_count": 32,
   "id": "f21058b9",
   "metadata": {},
   "outputs": [
    {
     "data": {
      "text/plain": [
       "173.25"
      ]
     },
     "execution_count": 32,
     "metadata": {},
     "output_type": "execute_result"
    }
   ],
   "source": [
    "myarray4.sum(axis=0)"
   ]
  },
  {
   "cell_type": "code",
   "execution_count": 33,
   "id": "75293149",
   "metadata": {},
   "outputs": [
    {
     "data": {
      "text/plain": [
       "9.25"
      ]
     },
     "execution_count": 33,
     "metadata": {},
     "output_type": "execute_result"
    }
   ],
   "source": [
    "myarray4.max()"
   ]
  },
  {
   "cell_type": "code",
   "execution_count": 34,
   "id": "a4bb6854",
   "metadata": {},
   "outputs": [
    {
     "data": {
      "text/plain": [
       "-1.0"
      ]
     },
     "execution_count": 34,
     "metadata": {},
     "output_type": "execute_result"
    }
   ],
   "source": [
    "myarray4.min()"
   ]
  },
  {
   "cell_type": "code",
   "execution_count": 35,
   "id": "bd9e9587",
   "metadata": {},
   "outputs": [
    {
     "data": {
      "text/plain": [
       "3.0302296392627848"
      ]
     },
     "execution_count": 35,
     "metadata": {},
     "output_type": "execute_result"
    }
   ],
   "source": [
    "myarray4.std(axis=0)"
   ]
  },
  {
   "cell_type": "code",
   "execution_count": 37,
   "id": "42c325b5",
   "metadata": {},
   "outputs": [
    {
     "data": {
      "text/plain": [
       "4.125"
      ]
     },
     "execution_count": 37,
     "metadata": {},
     "output_type": "execute_result"
    }
   ],
   "source": [
    "myarray4.mean(axis=0)"
   ]
  },
  {
   "cell_type": "code",
   "execution_count": null,
   "id": "40313be2",
   "metadata": {},
   "outputs": [],
   "source": []
  }
 ],
 "metadata": {
  "kernelspec": {
   "display_name": "Python 3 (ipykernel)",
   "language": "python",
   "name": "python3"
  },
  "language_info": {
   "codemirror_mode": {
    "name": "ipython",
    "version": 3
   },
   "file_extension": ".py",
   "mimetype": "text/x-python",
   "name": "python",
   "nbconvert_exporter": "python",
   "pygments_lexer": "ipython3",
   "version": "3.9.7"
  }
 },
 "nbformat": 4,
 "nbformat_minor": 5
}
